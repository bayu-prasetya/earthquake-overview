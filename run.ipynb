{
 "cells": [
  {
   "cell_type": "code",
   "execution_count": null,
   "id": "74884717",
   "metadata": {},
   "outputs": [],
   "source": [
    "from main import run_pipeline"
   ]
  },
  {
   "cell_type": "code",
   "execution_count": null,
   "id": "a550b188",
   "metadata": {},
   "outputs": [],
   "source": [
    "run_pipeline()"
   ]
  }
 ],
 "metadata": {
  "language_info": {
   "name": "python"
  }
 },
 "nbformat": 4,
 "nbformat_minor": 5
}
